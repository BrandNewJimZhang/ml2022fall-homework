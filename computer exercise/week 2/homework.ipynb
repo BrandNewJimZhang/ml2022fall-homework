{
 "cells": [
  {
   "cell_type": "code",
   "execution_count": 1,
   "metadata": {},
   "outputs": [],
   "source": [
    "# passed on Python 3.10.7 @ Windows 11 and Python 3.10.6 @ MacOS Monterey\n",
    "\n",
    "import numpy as np, pandas as pd, matplotlib.pyplot as plt\n",
    "from sklearn.preprocessing import MinMaxScaler, StandardScaler"
   ]
  },
  {
   "cell_type": "code",
   "execution_count": 2,
   "metadata": {},
   "outputs": [],
   "source": [
    "df = pd.read_csv('data1forEx1to4/train1_icu_data.csv')\n",
    "mm = StandardScaler()\n",
    "df = pd.DataFrame(mm.fit_transform(df), columns=df.columns)\n",
    "df_label = pd.read_csv('data1forEx1to4/train1_icu_label.csv')\n",
    "df['label'] = df_label['hospital_death']"
   ]
  },
  {
   "cell_type": "markdown",
   "metadata": {},
   "source": [
    "## Fisher's Linear Discriminant (FLD)"
   ]
  },
  {
   "cell_type": "code",
   "execution_count": 26,
   "metadata": {},
   "outputs": [
    {
     "data": {
      "text/plain": [
       "(108,)"
      ]
     },
     "execution_count": 26,
     "metadata": {},
     "output_type": "execute_result"
    }
   ],
   "source": [
    "# m_1\n",
    "m_1 = df[df['label'] == 1].drop('label', axis=1).values.mean(axis=0).reshape(-1, 1)\n",
    "\n",
    "# m_0\n",
    "m_0 = df[df['label'] == 0].drop('label', axis=1).values.mean(axis=0).reshape(-1, 1)"
   ]
  },
  {
   "cell_type": "code",
   "execution_count": 35,
   "metadata": {},
   "outputs": [],
   "source": [
    "cluster_1 = df[df['label'] == 1].drop('label', axis=1).values\n",
    "cluster_0 = df[df['label'] == 0].drop('label', axis=1).values"
   ]
  },
  {
   "cell_type": "code",
   "execution_count": 45,
   "metadata": {},
   "outputs": [],
   "source": [
    "S_w = np.zeros((df.shape[1] - 1, df.shape[1] - 1))\n",
    "\n",
    "# for cluster 0: (x_i - m_0)(x_i - m_0)^T, x_i\\in cluster 0\n",
    "for i in range(cluster_0.shape[0]):\n",
    "    array = cluster_0[i].reshape(-1, 1) - m_0\n",
    "    S_w += array @ array.T\n",
    "\n",
    "# for cluster 1: (x_i - m_1)(x_i - m_1)^T, x_i\\in cluster 1\n",
    "for i in range(cluster_1.shape[0]):\n",
    "    array = cluster_1[i].reshape(-1, 1) - m_1\n",
    "    S_w += array @ array.T"
   ]
  },
  {
   "cell_type": "code",
   "execution_count": 51,
   "metadata": {},
   "outputs": [],
   "source": [
    "# w = S_w^{-1} * (m_1 - m_0)\n",
    "w = np.linalg.pinv(S_w) @ (m_1 - m_0)\n",
    "\n",
    "# w_0\n",
    "w_0 = (-0.5 * (w.T @ (m_1 + m_0)))[0][0]"
   ]
  },
  {
   "cell_type": "code",
   "execution_count": 61,
   "metadata": {},
   "outputs": [
    {
     "name": "stdout",
     "output_type": "stream",
     "text": [
      "0.7944\n"
     ]
    }
   ],
   "source": [
    "def y(x):\n",
    "    '''\n",
    "    Fisher's Linear Discriminant\n",
    "    '''\n",
    "    return w.T @ x + w_0\n",
    "\n",
    "def score():\n",
    "    count = df.shape[0]\n",
    "    matrix = df.drop('label', axis=1).values\n",
    "    n = 0\n",
    "    for index in range(count):\n",
    "        if y(matrix[index].reshape(-1, 1)) > 0 and df['label'][index] == 1:\n",
    "            n += 1\n",
    "        elif y(matrix[index].reshape(-1, 1)) < 0 and df['label'][index] == 0:\n",
    "            n += 1\n",
    "    \n",
    "    return n / count\n",
    "\n",
    "print(score())\n",
    "    "
   ]
  },
  {
   "cell_type": "code",
   "execution_count": 274,
   "metadata": {},
   "outputs": [],
   "source": [
    "m_1 = np.mean(cluster_1, axis=0).reshape(-1, 1)\n",
    "m_0 = np.mean(cluster_0, axis=0).reshape(-1, 1)"
   ]
  },
  {
   "cell_type": "code",
   "execution_count": 275,
   "metadata": {},
   "outputs": [],
   "source": [
    "S_w = np.zeros((df.shape[1] - 1, df.shape[1] - 1))\n",
    "for i in range(cluster_1.shape[0]):\n",
    "    S_w += (cluster_1[i].reshape(-1, 1) - m_1) @ (cluster_1[i].reshape(-1, 1) - m_1).T\n",
    "for i in range(cluster_0.shape[0]):\n",
    "    S_w += (cluster_0[i].reshape(-1, 1) - m_0) @ (cluster_0[i].reshape(-1, 1) - m_0).T"
   ]
  },
  {
   "cell_type": "code",
   "execution_count": 276,
   "metadata": {},
   "outputs": [],
   "source": [
    "w = np.linalg.pinv(S_w) @ (m_1 - m_0)\n",
    "w_0 = -0.5 * (w.T @ m_1 + w.T @ m_0)"
   ]
  },
  {
   "cell_type": "code",
   "execution_count": 277,
   "metadata": {},
   "outputs": [],
   "source": [
    "def verify(x):\n",
    "    return 1 if x > 0 else 0\n",
    "\n",
    "result = np.vectorize(verify)(df.values[:, :-1] @ w + w_0[0][0])"
   ]
  },
  {
   "cell_type": "code",
   "execution_count": 278,
   "metadata": {},
   "outputs": [
    {
     "data": {
      "text/plain": [
       "0.7944"
      ]
     },
     "execution_count": 278,
     "metadata": {},
     "output_type": "execute_result"
    }
   ],
   "source": [
    "check = result.reshape(1, -1)[0] == df['label'].values\n",
    "check.sum() / check.shape[0]"
   ]
  },
  {
   "cell_type": "code",
   "execution_count": 279,
   "metadata": {},
   "outputs": [
    {
     "data": {
      "text/plain": [
       "0.7757520510483136"
      ]
     },
     "execution_count": 279,
     "metadata": {},
     "output_type": "execute_result"
    }
   ],
   "source": [
    "test_value = pd.read_csv('data1forEx1to4/test1_icu_data.csv')\n",
    "test_value = pd.DataFrame(mm.transform(test_value), columns=test_value.columns).values\n",
    "\n",
    "test_label = pd.read_csv('data1forEx1to4/test1_icu_label.csv').values\n",
    "test_result = np.vectorize(verify)(test_value @ w + w_0[0][0])\n",
    "\n",
    "test_check = test_result.reshape(1, -1)[0] == test_label.reshape(1, -1)[0]\n",
    "test_check.sum() / test_check.shape[0]"
   ]
  },
  {
   "cell_type": "markdown",
   "metadata": {},
   "source": [
    "## Perceptron via `scikit-learn`"
   ]
  },
  {
   "cell_type": "code",
   "execution_count": 67,
   "metadata": {},
   "outputs": [
    {
     "data": {
      "text/plain": [
       "array([0.72727273, 0.7       , 0.73636364, 0.76363636, 0.76363636,\n",
       "       0.70909091, 0.77272727, 0.60550459, 0.66972477, 0.76146789])"
      ]
     },
     "execution_count": 67,
     "metadata": {},
     "output_type": "execute_result"
    }
   ],
   "source": [
    "from sklearn.linear_model import Perceptron\n",
    "from sklearn.model_selection import cross_val_score\n",
    "\n",
    "clf = Perceptron()\n",
    "clf.fit(df.drop('label', axis=1).values, df['label'].values)\n",
    "clf.score(df.drop('label', axis=1).values, df['label'].values)\n",
    "# (height, age, ...) -> (death / survival, boolean)\n",
    "\n",
    "df_test = pd.read_csv('data1forEx1to4/test1_icu_data.csv')\n",
    "df_test = pd.DataFrame(mm.transform(df_test), columns=df_test.columns)\n",
    "df_test_label = pd.read_csv('data1forEx1to4/test1_icu_label.csv')\n",
    "clf.score(df_test.values, df_test_label['hospital_death'].values)\n",
    "\n",
    "cross_val_score(clf, df_test.values, df_test_label['hospital_death'].values, cv=10)"
   ]
  },
  {
   "cell_type": "code",
   "execution_count": 280,
   "metadata": {},
   "outputs": [
    {
     "name": "stdout",
     "output_type": "stream",
     "text": [
      "Train score: 0.691, Test score: 0.656\n"
     ]
    }
   ],
   "source": [
    "from sklearn.linear_model import Perceptron\n",
    "\n",
    "clf = Perceptron(tol=1e-3, random_state=0)\n",
    "clf.fit(df.values[:, :-1], df['label'].values)\n",
    "train_score = clf.score(df.values[:, :-1], df['label'].values)\n",
    "\n",
    "test_value = pd.read_csv('data1forEx1to4/test1_icu_data.csv')\n",
    "test_value = pd.DataFrame(mm.transform(test_value), columns=test_value.columns).values\n",
    "\n",
    "test_label = pd.read_csv('data1forEx1to4/test1_icu_label.csv').values\n",
    "test_score = clf.score(test_value, test_label)\n",
    "\n",
    "print('Train score: {:.3f}, Test score: {:.3f}'.format(train_score, test_score))"
   ]
  },
  {
   "cell_type": "code",
   "execution_count": 281,
   "metadata": {},
   "outputs": [
    {
     "name": "stdout",
     "output_type": "stream",
     "text": [
      "Train score: 1.000, Test score: 0.831\n"
     ]
    }
   ],
   "source": [
    "df = pd.read_csv('data1forEx1to4/train2_icu_data.csv')\n",
    "mm = StandardScaler()\n",
    "df = pd.DataFrame(mm.fit_transform(df), columns=df.columns)\n",
    "df_label = pd.read_csv('data1forEx1to4/train2_icu_label.csv')\n",
    "df['label'] = df_label['hospital_death']\n",
    "\n",
    "clf = Perceptron(tol=1e-3, random_state=0)\n",
    "clf.fit(df.values[:, :-1], df['label'].values)\n",
    "train_score = clf.score(df.values[:, :-1], df['label'].values)\n",
    "\n",
    "test_value = pd.read_csv('data1forEx1to4/test2_icu_data.csv')\n",
    "test_value = pd.DataFrame(mm.transform(test_value), columns=test_value.columns).values\n",
    "\n",
    "test_label = pd.read_csv('data1forEx1to4/test2_icu_label.csv').values\n",
    "test_score = clf.score(test_value, test_label)\n",
    "\n",
    "print('Train score: {:.3f}, Test score: {:.3f}'.format(train_score, test_score))"
   ]
  },
  {
   "cell_type": "code",
   "execution_count": 282,
   "metadata": {},
   "outputs": [
    {
     "data": {
      "text/plain": [
       "array([0.98648649, 1.        , 0.97972973, 0.98648649, 0.98648649,\n",
       "       0.98639456, 0.98639456, 0.96598639, 0.98639456, 0.99319728])"
      ]
     },
     "execution_count": 282,
     "metadata": {},
     "output_type": "execute_result"
    }
   ],
   "source": [
    "# cross validation\n",
    "from sklearn.model_selection import cross_val_score\n",
    "cross_val_score(clf, df.values[:, :-1], df['label'].values, cv=10)"
   ]
  },
  {
   "cell_type": "markdown",
   "metadata": {},
   "source": [
    "## Logistic Regression"
   ]
  },
  {
   "cell_type": "code",
   "execution_count": 69,
   "metadata": {},
   "outputs": [
    {
     "data": {
      "text/plain": [
       "array([0.74545455, 0.75454545, 0.80909091, 0.83636364, 0.73636364,\n",
       "       0.7       , 0.81818182, 0.72477064, 0.73394495, 0.7706422 ])"
      ]
     },
     "execution_count": 69,
     "metadata": {},
     "output_type": "execute_result"
    }
   ],
   "source": [
    "from sklearn.linear_model import LogisticRegression\n",
    "from sklearn.model_selection import cross_val_score\n",
    "\n",
    "clf = LogisticRegression()\n",
    "clf.fit(df.drop('label', axis=1).values, df['label'].values)\n",
    "clf.score(df.drop('label', axis=1).values, df['label'].values)\n",
    "# (height, age, ...) -> (death / survival, boolean)\n",
    "\n",
    "df_test = pd.read_csv('data1forEx1to4/test1_icu_data.csv')\n",
    "df_test = pd.DataFrame(mm.transform(df_test), columns=df_test.columns)\n",
    "df_test_label = pd.read_csv('data1forEx1to4/test1_icu_label.csv')\n",
    "clf.score(df_test.values, df_test_label['hospital_death'].values)\n",
    "\n",
    "cross_val_score(clf, df_test.values, df_test_label['hospital_death'].values, cv=10)"
   ]
  },
  {
   "cell_type": "code",
   "execution_count": 78,
   "metadata": {},
   "outputs": [
    {
     "data": {
      "text/plain": [
       "(1097, 2)"
      ]
     },
     "execution_count": 78,
     "metadata": {},
     "output_type": "execute_result"
    }
   ],
   "source": [
    "clf.predict_proba(df_test.values).shape"
   ]
  },
  {
   "cell_type": "code",
   "execution_count": 74,
   "metadata": {},
   "outputs": [
    {
     "data": {
      "image/png": "[encoded data removed]",
      "text/plain": [
       "<Figure size 640x480 with 1 Axes>"
      ]
     },
     "metadata": {},
     "output_type": "display_data"
    }
   ],
   "source": [
    "# roc curve\n",
    "from sklearn.metrics import roc_curve, auc\n",
    "import matplotlib.pyplot as plt\n",
    "\n",
    "fpr, tpr, _ = roc_curve(\n",
    "    df_test_label['hospital_death'].values,\n",
    "    clf.predict_proba(df_test.values)[:, 1]\n",
    ")\n",
    "roc_auc = auc(fpr, tpr)\n",
    "\n",
    "plt.figure()\n",
    "plt.plot(fpr, tpr, color='darkorange', lw=2, label='ROC curve (area = %0.2f)' % roc_auc)\n",
    "plt.plot([0, 1], [0, 1], color='navy', lw=2, linestyle='--')\n",
    "plt.axis('square')\n",
    "plt.xlim([0.0, 1.0]); plt.ylim([0.0, 1.0])\n",
    "plt.xlabel('False Positive Rate')\n",
    "plt.ylabel('True Positive Rate')\n",
    "plt.title('Receiver operating characteristic example')\n",
    "plt.legend(loc=\"lower right\")\n",
    "plt.show()"
   ]
  },
  {
   "cell_type": "code",
   "execution_count": 283,
   "metadata": {},
   "outputs": [
    {
     "name": "stdout",
     "output_type": "stream",
     "text": [
      "Train score: 0.797, Test score: 0.788\n"
     ]
    }
   ],
   "source": [
    "from sklearn.linear_model import LogisticRegression\n",
    "\n",
    "df = pd.read_csv('data1forEx1to4/train1_icu_data.csv')\n",
    "mm = StandardScaler()\n",
    "df = pd.DataFrame(mm.fit_transform(df), columns=df.columns)\n",
    "df_label = pd.read_csv('data1forEx1to4/train1_icu_label.csv')\n",
    "df['label'] = df_label['hospital_death']\n",
    "\n",
    "clf = LogisticRegression(random_state=0, max_iter=1000)\n",
    "clf.fit(df.values[:, :-1], df['label'].values)\n",
    "train_score = clf.score(df.values[:, :-1], df['label'].values)\n",
    "\n",
    "test_value = pd.read_csv('data1forEx1to4/test1_icu_data.csv')\n",
    "test_value = pd.DataFrame(mm.transform(test_value), columns=test_value.columns).values\n",
    "\n",
    "test_label = pd.read_csv('data1forEx1to4/test1_icu_label.csv').values\n",
    "test_score = clf.score(test_value, test_label)\n",
    "\n",
    "print('Train score: {:.3f}, Test score: {:.3f}'.format(train_score, test_score))"
   ]
  },
  {
   "cell_type": "code",
   "execution_count": 284,
   "metadata": {},
   "outputs": [
    {
     "data": {
      "image/png": "[encoded data removed]",
      "text/plain": [
       "<Figure size 640x480 with 1 Axes>"
      ]
     },
     "metadata": {},
     "output_type": "display_data"
    }
   ],
   "source": [
    "from sklearn.metrics import roc_curve, auc\n",
    "\n",
    "fpr, tpr, _ = roc_curve(test_label, clf.predict_proba(test_value)[:, 1])\n",
    "roc_auc = auc(fpr, tpr)\n",
    "\n",
    "plt.figure()\n",
    "plt.axis('square')\n",
    "lw = 2\n",
    "plt.plot(fpr, tpr, color='darkorange',\n",
    "            lw=lw, label='ROC curve (area = %0.2f)' % roc_auc)\n",
    "plt.plot([0, 1], [0, 1], color='navy', lw=lw, linestyle='--')\n",
    "plt.xlim([0.0, 1.0])\n",
    "plt.ylim([0.0, 1.0])\n",
    "plt.xlabel('False Positive Rate')\n",
    "plt.ylabel('True Positive Rate')\n",
    "plt.title('Receiver operating characteristic curve')\n",
    "plt.legend(loc=\"lower right\")\n",
    "plt.savefig('roc_curve.png', dpi=180)\n",
    "plt.show()"
   ]
  }
 ],
 "metadata": {
  "kernelspec": {
   "display_name": "Python 3.10.7 64-bit (microsoft store)",
   "language": "python",
   "name": "python3"
  },
  "language_info": {
   "codemirror_mode": {
    "name": "ipython",
    "version": 3
   },
   "file_extension": ".py",
   "mimetype": "text/x-python",
   "name": "python",
   "nbconvert_exporter": "python",
   "pygments_lexer": "ipython3",
   "version": "3.10.7"
  },
  "orig_nbformat": 4,
  "vscode": {
   "interpreter": {
    "hash": "d8f1c4da270a6860dac04a4b35d2f8f25b642f63184d48bfdb0a087bace3a44a"
   }
  }
 },
 "nbformat": 4,
 "nbformat_minor": 2
}
