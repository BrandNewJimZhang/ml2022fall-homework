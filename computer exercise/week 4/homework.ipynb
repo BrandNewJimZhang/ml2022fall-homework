{
 "cells": [
  {
   "cell_type": "code",
   "execution_count": 12,
   "metadata": {},
   "outputs": [],
   "source": [
    "import numpy as np, pandas as pd, matplotlib.pyplot as plt\n",
    "from numpy.random import RandomState\n",
    "from sklearn.preprocessing import StandardScaler\n",
    "from tqdm import trange, tqdm"
   ]
  },
  {
   "cell_type": "code",
   "execution_count": 13,
   "metadata": {},
   "outputs": [],
   "source": [
    "# because it's a binary classification problem, there should be two output neurons.\n",
    "\n",
    "# read data\n",
    "df = pd.read_csv('data1forEx1to4/train1_icu_data.csv')\n",
    "mm = StandardScaler()\n",
    "df = pd.DataFrame(mm.fit_transform(df), columns=df.columns)\n",
    "df_label = pd.read_csv('data1forEx1to4/train1_icu_label.csv')"
   ]
  },
  {
   "cell_type": "code",
   "execution_count": 14,
   "metadata": {},
   "outputs": [],
   "source": [
    "def sigmoid(x):\n",
    "    return 1 / (1 + np.exp(-x))\n",
    "\n",
    "def loss(y, y_hat):\n",
    "    return 1 / 2 * np.sum((y - y_hat) ** 2)\n",
    "\n",
    "# let's try to use 2 hidden layers\n",
    "# input layer: 108 features = 108 neurons\n",
    "# hidden layer 1: 50 neurons\n",
    "# hidden layer 2: 20 neurons\n",
    "# output layer: 1 neuron"
   ]
  },
  {
   "cell_type": "code",
   "execution_count": 15,
   "metadata": {},
   "outputs": [],
   "source": [
    "def forward(x, w1, w2, w3, b1, b2, b3):\n",
    "    z1 = np.dot(x, w1) + b1\n",
    "    a1 = sigmoid(z1)\n",
    "    z2 = np.dot(a1, w2) + b2\n",
    "    a2 = sigmoid(z2)\n",
    "    z3 = np.dot(a2, w3) + b3\n",
    "    a3 = sigmoid(z3)\n",
    "    return z1, a1, z2, a2, z3, a3\n",
    "\n",
    "def backward(x, y, z1, a1, z2, a2, z3, a3, w1, w2, w3, b1, b2, b3):\n",
    "    dz3 = a3 - y\n",
    "    dw3 = np.dot(a2.T, dz3)\n",
    "    db3 = np.sum(dz3, axis=0)\n",
    "    dz2 = np.dot(dz3, w3.T) * a2 * (1 - a2)\n",
    "    dw2 = np.dot(a1.T, dz2)\n",
    "    db2 = np.sum(dz2, axis=0)\n",
    "    dz1 = np.dot(dz2, w2.T) * a1 * (1 - a1)\n",
    "    dw1 = np.dot(x.T, dz1)\n",
    "    db1 = np.sum(dz1, axis=0)\n",
    "    return dw1, dw2, dw3, db1, db2, db3\n",
    "\n",
    "def update(w1, w2, w3, b1, b2, b3, dw1, dw2, dw3, db1, db2, db3, lr):\n",
    "    w1 -= lr * dw1\n",
    "    w2 -= lr * dw2\n",
    "    w3 -= lr * dw3\n",
    "    b1 -= lr * db1\n",
    "    b2 -= lr * db2\n",
    "    b3 -= lr * db3\n",
    "    return w1, w2, w3, b1, b2, b3\n",
    "\n",
    "\n",
    "def train(x, y, w1, w2, w3, b1, b2, b3, lr, epoch):\n",
    "    for i in range(epoch):\n",
    "        z1, a1, z2, a2, z3, a3 = forward(x, w1, w2, w3, b1, b2, b3)\n",
    "        dw1, dw2, dw3, db1, db2, db3 = backward(x, y, z1, a1, z2, a2, z3, a3, w1, w2, w3, b1, b2, b3)\n",
    "        w1, w2, w3, b1, b2, b3 = update(w1, w2, w3, b1, b2, b3, dw1, dw2, dw3, db1, db2, db3, lr)\n",
    "    return w1, w2, w3, b1, b2, b3\n",
    "\n",
    "def predict(x, w1, w2, w3, b1, b2, b3):\n",
    "    _, _, _, _, _, a3 = forward(x, w1, w2, w3, b1, b2, b3)\n",
    "    return a3\n",
    "\n",
    "def accuracy(y, y_hat):\n",
    "    y_hat = np.where(y_hat > 0.5, 1, 0)\n",
    "    return np.sum(y == y_hat) / len(y)"
   ]
  },
  {
   "cell_type": "code",
   "execution_count": 29,
   "metadata": {},
   "outputs": [
    {
     "name": "stderr",
     "output_type": "stream",
     "text": [
      "100%|██████████| 5/5 [00:59<00:00, 11.83s/it]"
     ]
    },
    {
     "name": "stdout",
     "output_type": "stream",
     "text": [
      "accuracy: [0.767, 0.505, 0.81, 0.774, 0.768]\n"
     ]
    },
    {
     "name": "stderr",
     "output_type": "stream",
     "text": [
      "\n"
     ]
    }
   ],
   "source": [
    "def cross_validation(x, y, k, lr, epoch):\n",
    "    n = len(x)\n",
    "    fold_size = n // k\n",
    "    acc = []\n",
    "\n",
    "    for i in trange(k):\n",
    "        x_val = x[i * fold_size: (i + 1) * fold_size]\n",
    "        y_val = y[i * fold_size: (i + 1) * fold_size]\n",
    "        x_train = np.concatenate((x[:i * fold_size], x[(i + 1) * fold_size:]))\n",
    "        y_train = np.concatenate((y[:i * fold_size], y[(i + 1) * fold_size:]))\n",
    "\n",
    "        rs = RandomState(seed=1709)\n",
    "        w1 = rs.randn(108, 50)\n",
    "        w2 = rs.randn(50, 20)\n",
    "        w3 = rs.randn(20, 1)\n",
    "        b1 = rs.randn(50)\n",
    "        b2 = rs.randn(20)\n",
    "        b3 = rs.randn(1)\n",
    "\n",
    "        w1, w2, w3, b1, b2, b3 = train(x_train, y_train, w1, w2, w3, b1, b2, b3, lr, epoch)\n",
    "        y_hat = predict(x_val, w1, w2, w3, b1, b2, b3)\n",
    "        acc.append(accuracy(y_val, y_hat))\n",
    "    return acc\n",
    "\n",
    "x = df.values\n",
    "y = df_label.values\n",
    "k = 5\n",
    "lr = 0.01\n",
    "epoch = 1000\n",
    "acc = cross_validation(x, y, k, lr, epoch)\n",
    "print('accuracy:', acc)"
   ]
  },
  {
   "cell_type": "code",
   "execution_count": 30,
   "metadata": {},
   "outputs": [
    {
     "name": "stderr",
     "output_type": "stream",
     "text": [
      "/var/folders/7p/v3y46gtj3z7dpy01w3qjp3xm0000gn/T/ipykernel_1089/2982537270.py:2: RuntimeWarning: overflow encountered in exp\n",
      "  return 1 / (1 + np.exp(-x))\n"
     ]
    },
    {
     "name": "stdout",
     "output_type": "stream",
     "text": [
      "train accuracy: 0.8386\n",
      "test accuracy: 0.5013673655423884\n"
     ]
    }
   ],
   "source": [
    "rs = RandomState(seed=1709)\n",
    "\n",
    "w1 = rs.randn(108, 50)\n",
    "w2 = rs.randn(50, 20)\n",
    "w3 = rs.randn(20, 1)\n",
    "b1 = rs.randn(50)\n",
    "b2 = rs.randn(20)\n",
    "b3 = rs.randn(1)\n",
    "\n",
    "w1, w2, w3, b1, b2, b3 = train(x, y, w1, w2, w3, b1, b2, b3, lr, epoch)\n",
    "\n",
    "df_test = pd.read_csv('data1forEx1to4/test1_icu_data.csv')\n",
    "df_test_label = pd.read_csv('data1forEx1to4/test1_icu_label.csv')\n",
    "y_hat = predict(df_test.values, w1, w2, w3, b1, b2, b3)\n",
    "print('train accuracy:', accuracy(df_label.values, predict(df.values, w1, w2, w3, b1, b2, b3)))\n",
    "print('test accuracy:', accuracy(df_test_label.values, y_hat))"
   ]
  },
  {
   "cell_type": "code",
   "execution_count": 31,
   "metadata": {},
   "outputs": [
    {
     "name": "stderr",
     "output_type": "stream",
     "text": [
      "  0%|          | 0/9 [00:00<?, ?it/s]/var/folders/7p/v3y46gtj3z7dpy01w3qjp3xm0000gn/T/ipykernel_1089/2982537270.py:2: RuntimeWarning: overflow encountered in exp\n",
      "  return 1 / (1 + np.exp(-x))\n",
      "100%|██████████| 9/9 [01:56<00:00, 12.93s/it]\n"
     ]
    }
   ],
   "source": [
    "lr_list = [0.05, 0.02, 0.01, 0.005, 0.002, 0.001, 0.0005, 0.0002, 0.0001]\n",
    "acc_training = []\n",
    "acc_test = []\n",
    "\n",
    "for lr in tqdm(lr_list):\n",
    "    rs = RandomState(seed=1709)\n",
    "\n",
    "    w1 = rs.randn(108, 50)\n",
    "    w2 = rs.randn(50, 20)\n",
    "    w3 = rs.randn(20, 1)\n",
    "    b1 = rs.randn(50)\n",
    "    b2 = rs.randn(20)\n",
    "    b3 = rs.randn(1)\n",
    "\n",
    "    w1, w2, w3, b1, b2, b3 = train(x, y, w1, w2, w3, b1, b2, b3, lr, epoch)\n",
    "    acc = accuracy(df_label.values, predict(df.values, w1, w2, w3, b1, b2, b3))\n",
    "    acc_training.append(acc)\n",
    "\n",
    "    y_hat = predict(df_test.values, w1, w2, w3, b1, b2, b3)\n",
    "    acc = accuracy(df_test_label.values, y_hat)\n",
    "    acc_test.append(acc)"
   ]
  },
  {
   "cell_type": "code",
   "execution_count": 33,
   "metadata": {},
   "outputs": [
    {
     "data": {
      "image/png": "[encoded data removed]",
      "text/plain": [
       "<Figure size 640x480 with 1 Axes>"
      ]
     },
     "metadata": {},
     "output_type": "display_data"
    }
   ],
   "source": [
    "plt.plot(acc_training, label='training')\n",
    "plt.plot(acc_test, label='test')\n",
    "plt.legend()\n",
    "plt.xticks(np.arange(len(lr_list)), [str(item) for item in lr_list])\n",
    "plt.xlabel('learning rate')\n",
    "plt.ylabel('accuracy')\n",
    "plt.savefig('lr.png', dpi=180)\n",
    "plt.show()"
   ]
  }
 ],
 "metadata": {
  "kernelspec": {
   "display_name": "Python 3.10.8 64-bit",
   "language": "python",
   "name": "python3"
  },
  "language_info": {
   "codemirror_mode": {
    "name": "ipython",
    "version": 3
   },
   "file_extension": ".py",
   "mimetype": "text/x-python",
   "name": "python",
   "nbconvert_exporter": "python",
   "pygments_lexer": "ipython3",
   "version": "3.10.8"
  },
  "orig_nbformat": 4,
  "vscode": {
   "interpreter": {
    "hash": "b0fa6594d8f4cbf19f97940f81e996739fb7646882a419484c72d19e05852a7e"
   }
  }
 },
 "nbformat": 4,
 "nbformat_minor": 2
}
