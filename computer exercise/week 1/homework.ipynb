{
 "cells": [
  {
   "cell_type": "markdown",
   "metadata": {},
   "source": [
    "*Problem 1*. Print out \"Hello Python\" to get started!"
   ]
  },
  {
   "cell_type": "code",
   "execution_count": 11,
   "metadata": {},
   "outputs": [
    {
     "name": "stdout",
     "output_type": "stream",
     "text": [
      "Hello Python\n"
     ]
    }
   ],
   "source": [
    "print(\"Hello Python\")"
   ]
  },
  {
   "cell_type": "markdown",
   "metadata": {},
   "source": [
    "*Problem 2*. Let's start with the toy data of 5 students of heights (in cm) 178, 166, 185, 158 and 160, respectively. Study the data structure List in Python, and store the data into a list."
   ]
  },
  {
   "cell_type": "code",
   "execution_count": 12,
   "metadata": {},
   "outputs": [],
   "source": [
    "l = [178, 166, 185, 158, 160]"
   ]
  },
  {
   "cell_type": "markdown",
   "metadata": {},
   "source": [
    "*Problem 3*. Calculate the difference between heights of the first and second students. Format such calculation as a \n",
    "function."
   ]
  },
  {
   "cell_type": "code",
   "execution_count": 13,
   "metadata": {},
   "outputs": [
    {
     "data": {
      "text/plain": [
       "12"
      ]
     },
     "execution_count": 13,
     "metadata": {},
     "output_type": "execute_result"
    }
   ],
   "source": [
    "abs(l[0] - l[1])"
   ]
  },
  {
   "cell_type": "markdown",
   "metadata": {},
   "source": [
    "*Problem 4*. There are many built-in functions in Python. Choose the proper functions to get: \n",
    "\n",
    "* The maximum and minimum height of the 5 students; \n",
    "* The average height of the 5 students; \n",
    "* The ascendingly sorted list of heights. \n",
    "\n",
    "Store the results into variables and print out these variables to check."
   ]
  },
  {
   "cell_type": "code",
   "execution_count": 14,
   "metadata": {},
   "outputs": [
    {
     "name": "stdout",
     "output_type": "stream",
     "text": [
      "Maximum height is 185 cm and minimum height is 158 cm.\n",
      "Average height is 169.40 cm.\n",
      "[158, 160, 166, 178, 185]\n"
     ]
    }
   ],
   "source": [
    "print(\"Maximum height is {} cm and minimum height is {} cm.\".format(max(l), min(l)))\n",
    "print(\"Average height is {:.2f} cm.\".format(sum(l)/len(l)))\n",
    "print(sorted(l))"
   ]
  },
  {
   "cell_type": "markdown",
   "metadata": {},
   "source": [
    "*Problem 5*. A data file \"weight-height.csv\" is provided with the homework. You can use some packages for data \n",
    "loading and processing. Study the usage of NumPy and Pandas by yourself. Load in the table \"weight-\n",
    "height.csv\" and repeat the tasks in *Problem 4* for the \"Height\" column in this table."
   ]
  },
  {
   "cell_type": "code",
   "execution_count": 15,
   "metadata": {},
   "outputs": [
    {
     "name": "stdout",
     "output_type": "stream",
     "text": [
      "Maximum height is 79.00 cm and minimum height is 54.26 cm.\n",
      "Average height is 66.37 cm.\n"
     ]
    }
   ],
   "source": [
    "import pandas as pd, numpy as np\n",
    "\n",
    "df = pd.read_csv('./weight-height.csv')\n",
    "\n",
    "l = df['Height'].tolist()\n",
    "print(\"Maximum height is {:.2f} cm and minimum height is {:.2f} cm.\".format(max(l), min(l)))\n",
    "print(\"Average height is {:.2f} cm.\".format(sum(l)/len(l)))\n",
    "# sorted(l) is too long to print."
   ]
  }
 ],
 "metadata": {
  "kernelspec": {
   "display_name": "Python 3.10.7 64-bit (microsoft store)",
   "language": "python",
   "name": "python3"
  },
  "language_info": {
   "codemirror_mode": {
    "name": "ipython",
    "version": 3
   },
   "file_extension": ".py",
   "mimetype": "text/x-python",
   "name": "python",
   "nbconvert_exporter": "python",
   "pygments_lexer": "ipython3",
   "version": "3.10.7"
  },
  "orig_nbformat": 4,
  "vscode": {
   "interpreter": {
    "hash": "d8f1c4da270a6860dac04a4b35d2f8f25b642f63184d48bfdb0a087bace3a44a"
   }
  }
 },
 "nbformat": 4,
 "nbformat_minor": 2
}
