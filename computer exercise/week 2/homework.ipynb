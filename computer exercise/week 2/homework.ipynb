{
 "cells": [
  {
   "cell_type": "code",
   "execution_count": 15,
   "metadata": {},
   "outputs": [],
   "source": [
    "# passed on Python 3.10.7@Windows 11\n",
    "# DO NOT RUN ON MACOS!!!!!!!!!\n",
    "# np.linalg.dev(S_w) = -4e+192 on Windows but 0 on MacOS\n",
    "\n",
    "import numpy as np, pandas as pd, matplotlib.pyplot as plt, seaborn as sns\n",
    "from sklearn.preprocessing import MinMaxScaler, StandardScaler"
   ]
  },
  {
   "cell_type": "code",
   "execution_count": 16,
   "metadata": {},
   "outputs": [],
   "source": [
    "df = pd.read_csv('data1forEx1to4/train1_icu_data.csv')\n",
    "# mm = MinMaxScaler()\n",
    "mm = StandardScaler()\n",
    "df = pd.DataFrame(mm.fit_transform(df), columns=df.columns)\n",
    "df_label = pd.read_csv('data1forEx1to4/train1_icu_label.csv')\n",
    "df['label'] = df_label['hospital_death']"
   ]
  },
  {
   "cell_type": "code",
   "execution_count": 17,
   "metadata": {},
   "outputs": [],
   "source": [
    "cluster_1 = df[df['label'] == 1].values[:, :-1]\n",
    "cluster_0 = df[df['label'] == 0].values[:, :-1]"
   ]
  },
  {
   "cell_type": "code",
   "execution_count": 18,
   "metadata": {},
   "outputs": [],
   "source": [
    "m_1 = np.mean(cluster_1, axis=0).reshape(-1, 1)\n",
    "m_0 = np.mean(cluster_0, axis=0).reshape(-1, 1)"
   ]
  },
  {
   "cell_type": "code",
   "execution_count": 19,
   "metadata": {},
   "outputs": [],
   "source": [
    "S_w = np.zeros((df.shape[1] - 1, df.shape[1] - 1))\n",
    "for i in range(cluster_1.shape[0]):\n",
    "    S_w += (cluster_1[i].reshape(-1, 1) - m_1) @ (cluster_1[i].reshape(-1, 1) - m_1).T\n",
    "for i in range(cluster_0.shape[0]):\n",
    "    S_w += (cluster_0[i].reshape(-1, 1) - m_0) @ (cluster_0[i].reshape(-1, 1) - m_0).T"
   ]
  },
  {
   "cell_type": "code",
   "execution_count": 20,
   "metadata": {},
   "outputs": [],
   "source": [
    "w = np.linalg.inv(S_w) @ (m_1 - m_0)\n",
    "w_0 = -0.5 * (w.T @ m_1 + w.T @ m_0)"
   ]
  },
  {
   "cell_type": "code",
   "execution_count": 21,
   "metadata": {},
   "outputs": [],
   "source": [
    "def verify(x):\n",
    "    return 1 if x > 0 else 0\n",
    "\n",
    "result = np.vectorize(verify)(df.values[:, :-1] @ w + w_0[0][0])"
   ]
  },
  {
   "cell_type": "code",
   "execution_count": 22,
   "metadata": {},
   "outputs": [
    {
     "data": {
      "text/plain": [
       "0.541"
      ]
     },
     "execution_count": 22,
     "metadata": {},
     "output_type": "execute_result"
    }
   ],
   "source": [
    "check = result.reshape(1, -1)[0] == df['label'].values\n",
    "check.sum() / check.shape[0]"
   ]
  }
 ],
 "metadata": {
  "kernelspec": {
   "display_name": "Python 3.10.7 64-bit (microsoft store)",
   "language": "python",
   "name": "python3"
  },
  "language_info": {
   "codemirror_mode": {
    "name": "ipython",
    "version": 3
   },
   "file_extension": ".py",
   "mimetype": "text/x-python",
   "name": "python",
   "nbconvert_exporter": "python",
   "pygments_lexer": "ipython3",
   "version": "3.10.7"
  },
  "orig_nbformat": 4,
  "vscode": {
   "interpreter": {
    "hash": "d8f1c4da270a6860dac04a4b35d2f8f25b642f63184d48bfdb0a087bace3a44a"
   }
  }
 },
 "nbformat": 4,
 "nbformat_minor": 2
}
